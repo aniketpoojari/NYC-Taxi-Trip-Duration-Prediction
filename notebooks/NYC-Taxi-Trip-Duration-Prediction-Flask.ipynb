{
 "cells": [
  {
   "cell_type": "markdown",
   "id": "3546937c",
   "metadata": {},
   "source": [
    "# IMPORTS"
   ]
  },
  {
   "cell_type": "code",
   "execution_count": 1,
   "id": "d734dcba",
   "metadata": {},
   "outputs": [],
   "source": [
    "from catboost import CatBoostRegressor\n",
    "import pandas as pd\n",
    "import numpy as np\n",
    "import pickle\n",
    "from flask import Flask, render_template, request\n",
    "from flask_ngrok import run_with_ngrok"
   ]
  },
  {
   "cell_type": "markdown",
   "id": "a9fcb30d",
   "metadata": {},
   "source": [
    "# WRITING HTML FILE"
   ]
  },
  {
   "cell_type": "code",
   "execution_count": 15,
   "id": "b51315cf",
   "metadata": {},
   "outputs": [
    {
     "name": "stdout",
     "output_type": "stream",
     "text": [
      "Overwriting templates/index.html\n"
     ]
    }
   ],
   "source": [
    "%%writefile templates/index.html\n",
    "\n",
    "<!DOCTYPE html>  \n",
    "<html lang=\"en\">\n",
    "  <head>\n",
    "    <meta charset=\"UTF-8\" />\n",
    "    <title>NYC Taxi Trip Duration Prediction</title>\n",
    "    <style>\n",
    "    table{\n",
    "        margin-left: \"auto\";\n",
    "        margin-right: \"auto\";\n",
    "    };\n",
    "    input{\n",
    "        width: 100%;\n",
    "    }\n",
    "    </style>\n",
    "  </head>\n",
    "  <body>\n",
    "    <center>\n",
    "    <h1>NYC Taxi Trip Duration Prediction</h1>\n",
    "    <form action=\"{{url_for('predict')}}\" method=\"POST\">\n",
    "      <table>\n",
    "        <tr>\n",
    "          <td>Pickup Latitude</td>\n",
    "            <td>Pickup Longitude</td>\n",
    "        </tr>\n",
    "        <tr>\n",
    "          <td>\n",
    "            <input name=\"Pickup Latitude\" size=\"25\" maxlength=\"25\" type=\"number\" step=\"0.00000000000001\"\n",
    "            min = \"40.69\"\n",
    "            max = \"40.81\"\n",
    "            />\n",
    "            </td>\n",
    "            <td>\n",
    "            <input name=\"Pickup Longitude\" size=\"25\" maxlength=\"25\" type=\"number\" step=\"0.00000000000001\"\n",
    "            min = \"-74.02\"\n",
    "            max = \"-73.93\"\n",
    "            />\n",
    "            </td>\n",
    "        </tr>\n",
    "        \n",
    "        <tr>\n",
    "          <td>Dropoff Latitude</td>\n",
    "            <td>Dropoff Longitude</td>\n",
    "        </tr>\n",
    "        <tr>\n",
    "          <td>\n",
    "            <input name=\"Dropoff Latitude\" size=\"25\" maxlength=\"25\" type=\"number\" step=\"0.00000000000001\"\n",
    "            min = \"40.69\"\n",
    "            max = \"40.81\"\n",
    "            />\n",
    "            </td>\n",
    "            <td>\n",
    "            <input name=\"Dropoff Longitude\" size=\"25\" maxlength=\"25\" type=\"number\" step=\"0.00000000000001\"\n",
    "            min = \"-74.03\"\n",
    "            max = \"-73.92\"\n",
    "            />\n",
    "            </td>\n",
    "        </tr>\n",
    "        <tr>\n",
    "          <td colspan=2>\n",
    "            <center>Date Time</br>\n",
    "            <input name=\"Date Time\" type=\"datetime-local\"/></center>\n",
    "            </td>\n",
    "        </tr> \n",
    "        </table>\n",
    "        <input type=\"submit\" value=\"submit\"\n",
    "        style=\"border: 0px; width: 90px; height: 40px; background: blue; color: white; font-size: 16px; margin-top: 30px;\"/>\n",
    "    </form>\n",
    "    <br />\n",
    "    <h3>{{prediction_text}}</h3>\n",
    "    </center>\n",
    "    </body>\n",
    "</html>"
   ]
  },
  {
   "cell_type": "markdown",
   "id": "ef622750",
   "metadata": {},
   "source": [
    "# FLASK"
   ]
  },
  {
   "cell_type": "code",
   "execution_count": 16,
   "id": "5dff434a",
   "metadata": {},
   "outputs": [
    {
     "name": "stdout",
     "output_type": "stream",
     "text": [
      " * Serving Flask app \"__main__\" (lazy loading)\n",
      " * Environment: production\n",
      "   WARNING: This is a development server. Do not use it in a production deployment.\n",
      "   Use a production WSGI server instead.\n",
      " * Debug mode: off\n"
     ]
    },
    {
     "name": "stderr",
     "output_type": "stream",
     "text": [
      " * Running on http://127.0.0.1:5000/ (Press CTRL+C to quit)\n",
      "127.0.0.1 - - [30/Aug/2021 15:05:44] \"\u001b[37mGET / HTTP/1.1\u001b[0m\" 200 -\n"
     ]
    },
    {
     "name": "stdout",
     "output_type": "stream",
     "text": [
      " * Running on http://7c73-103-226-144-197.ngrok.io\n",
      " * Traffic stats available on http://127.0.0.1:4040\n"
     ]
    },
    {
     "name": "stderr",
     "output_type": "stream",
     "text": [
      "127.0.0.1 - - [30/Aug/2021 15:06:09] \"\u001b[37mPOST /predict HTTP/1.1\u001b[0m\" 200 -\n",
      "127.0.0.1 - - [30/Aug/2021 15:06:52] \"\u001b[37mPOST /predict HTTP/1.1\u001b[0m\" 200 -\n",
      "127.0.0.1 - - [30/Aug/2021 15:08:39] \"\u001b[37mPOST /predict HTTP/1.1\u001b[0m\" 200 -\n"
     ]
    }
   ],
   "source": [
    "app = Flask(__name__)\n",
    "run_with_ngrok(app)\n",
    "\n",
    "# LOADING PRETRAINED MODEL\n",
    "cb_model = CatBoostRegressor(iterations=2000,\n",
    "                             learning_rate=0.02,\n",
    "                             depth=12,\n",
    "                             eval_metric='RMSE',\n",
    "                             random_seed = 23,\n",
    "                             bagging_temperature = 0.2,\n",
    "                             od_type='Iter',\n",
    "                             metric_period = 75,\n",
    "                             od_wait=100,\n",
    "                             task_type=\"GPU\",\n",
    "                             devices='0:1'\n",
    "                            )\n",
    "cb_model.load_model('cb_model')\n",
    "\n",
    "@app.route(\"/\")\n",
    "def home():\n",
    "    return render_template(\"index.html\")\n",
    "\n",
    "@app.route(\"/predict\", methods=[\"POST\"])\n",
    "def predict():\n",
    "    features = [[]]\n",
    "    features[0].append(float(request.form['Pickup Longitude']))\n",
    "    features[0].append(float(request.form['Pickup Latitude']))\n",
    "    features[0].append(float(request.form['Dropoff Longitude']))\n",
    "    features[0].append(float(request.form['Dropoff Latitude']))\n",
    "    \n",
    "    date = \" \".join(request.form['Date Time'].split(\"T\")) + \":00\"\n",
    "    date = pd.to_datetime(date)\n",
    "    \n",
    "    features[0].append(date.hour)\n",
    "    \n",
    "    dlon = float(request.form['Pickup Longitude']) - float(request.form['Dropoff Longitude'])\n",
    "    dlat = float(request.form['Pickup Latitude']) - float(request.form['Dropoff Latitude'])\n",
    "    a = (np.sin(dlat/2))**2 + np.cos(float(request.form['Pickup Latitude'])) * np.cos(float(request.form['Dropoff Latitude'])) * (np.sin(dlon/2))**2\n",
    "    c = 2 * np.arctan2(np.sqrt(a), np.sqrt(1-a))\n",
    "    features[0].append(6373.0 * c)\n",
    "    \n",
    "    \n",
    "    features[0].append(date.weekofyear)\n",
    "    features[0].append(date.minute)\n",
    "    features[0].append(date.weekday() * 24 + date.hour)\n",
    "    \n",
    "    # PREDICTION FROM SAVED MODEL\n",
    "    result = cb_model.predict(features)\n",
    "\n",
    "    # SHOWING RESULT TO USER\n",
    "    return render_template(\n",
    "        \"index.html\",\n",
    "        prediction_text=\"Trip Duration = {:.2f} Min\".format(\n",
    "            result[0]/60\n",
    "        ),\n",
    "    )\n",
    "\n",
    "if __name__ == \"__main__\":\n",
    "    app.run()"
   ]
  },
  {
   "cell_type": "code",
   "execution_count": null,
   "id": "cc211ac8",
   "metadata": {},
   "outputs": [],
   "source": []
  },
  {
   "cell_type": "code",
   "execution_count": null,
   "id": "b75b853a",
   "metadata": {},
   "outputs": [],
   "source": []
  }
 ],
 "metadata": {
  "kernelspec": {
   "display_name": "Python 3 (ipykernel)",
   "language": "python",
   "name": "python3"
  },
  "language_info": {
   "codemirror_mode": {
    "name": "ipython",
    "version": 3
   },
   "file_extension": ".py",
   "mimetype": "text/x-python",
   "name": "python",
   "nbconvert_exporter": "python",
   "pygments_lexer": "ipython3",
   "version": "3.9.12"
  }
 },
 "nbformat": 4,
 "nbformat_minor": 5
}
